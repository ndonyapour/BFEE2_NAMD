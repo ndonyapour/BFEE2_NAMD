{
 "cells": [
  {
   "cell_type": "code",
   "execution_count": 1,
   "metadata": {},
   "outputs": [],
   "source": [
    "import numpy as np \n",
    "from BFEE2.postTreatment import postTreatment\n",
    "import plumed"
   ]
  },
  {
   "cell_type": "code",
   "execution_count": 2,
   "metadata": {},
   "outputs": [],
   "source": [
    "temperature = 300\n",
    "unit ='namd'\n",
    "ps = postTreatment(temperature, unit, jobType='geometric')"
   ]
  },
  {
   "cell_type": "code",
   "execution_count": 3,
   "metadata": {},
   "outputs": [
    {
     "name": "stdout",
     "output_type": "stream",
     "text": [
      "(2, 61)\n",
      "dG = -1.276 kcal/mol\n"
     ]
    }
   ],
   "source": [
    "# RMSDBOUND NAMD \n",
    "forceConstant = 10 # kj/mol A2\n",
    "pmf_path =  '../BFEE_NAMD/001_RMSDBound/output/abf_1.abf1.czar.pmf'\n",
    "pmf = ps._readPMF(pmf_path)\n",
    "print(pmf.shape)\n",
    "dG = ps._geometricRestraintContribution(pmf, forceConstant, rmsd=True, unbound=False)\n",
    "print(f'dG = {dG:.3f} kcal/mol')"
   ]
  },
  {
   "cell_type": "code",
   "execution_count": 7,
   "metadata": {},
   "outputs": [
    {
     "name": "stdout",
     "output_type": "stream",
     "text": [
      "dG = -1.815 kcal/mol\n"
     ]
    },
    {
     "name": "stderr",
     "output_type": "stream",
     "text": [
      "+++ Loading the PLUMED kernel runtime +++\n",
      "+++ PLUMED_KERNEL=\"/home/ndonyapour/miniconda3/envs/bfee2/lib/libplumedKernel.so\" +++\n"
     ]
    }
   ],
   "source": [
    "temperature = 300\n",
    "forceConstant = 4184 # kj/mol(nm)2\n",
    "unit ='gromacs'\n",
    "ps2 = postTreatment(temperature, unit, jobType='geometric')\n",
    "data = plumed.read_as_pandas(\"../../openmm_bfee2_2wi3/analysis/rmsdbound.dat\")\n",
    "pmf = np.array([data[\"rmsd\"], data[\"file.free\"]])\n",
    "dG = ps2._geometricRestraintContribution(pmf, forceConstant, rmsd=True, unbound=False) / 4.184 # convert to kcal/mol\n",
    "print(f'dG = {dG:.3f} kcal/mol')"
   ]
  },
  {
   "cell_type": "code",
   "execution_count": 3,
   "metadata": {},
   "outputs": [
    {
     "name": "stdout",
     "output_type": "stream",
     "text": [
      "['../001_RMSDBound/output/abf_1.abf1.czar.pmf', '../002_EulerTheta/output/abf_1.abf1.czar.pmf', '../003_EulerPhi/output/abf_1.abf1.czar.pmf', '../004_EulerPsi/output/abf_1.abf1.czar.pmf', '../005_PolarTheta/output/abf_1.abf1.czar.pmf', '../006_PolarPhi/output/abf_1.abf1.czar.pmf', '../007_r/output/abf_1.abf1.czar.pmf', '../008_RMSDUnbound/output/abf_1.abf1.czar.pmf']\n"
     ]
    }
   ],
   "source": [
    "# calculate_free_energy \n",
    "pmf_paths = []\n",
    "steps = ['RMSDBound', 'EulerTheta', 'EulerPhi', 'EulerPsi', 'PolarTheta', 'PolarPhi', 'r', 'RMSDUnbound']\n",
    "for i in range(1, 9):\n",
    "    pmf_paths.append(f'../00{i}_{steps[i-1]}/output/abf_1.abf1.czar.pmf')\n",
    "print(pmf_paths)  \n",
    "# # (forceConstant1, FC2, FC3, FC4, FC5, FC6, r*, FC8)\n",
    "# forceconstants = np.array([10, 0.1, 0.1, 0.1, 0.1, 0.1, 30, 0.1])\n",
    "# ps.geometricBindingFreeEnergy(pmf_paths, forceconstants)"
   ]
  },
  {
   "cell_type": "code",
   "execution_count": null,
   "metadata": {},
   "outputs": [],
   "source": []
  }
 ],
 "metadata": {
  "kernelspec": {
   "display_name": "Python 3",
   "language": "python",
   "name": "python3"
  },
  "language_info": {
   "codemirror_mode": {
    "name": "ipython",
    "version": 3
   },
   "file_extension": ".py",
   "mimetype": "text/x-python",
   "name": "python",
   "nbconvert_exporter": "python",
   "pygments_lexer": "ipython3",
   "version": "3.8.16 | packaged by conda-forge | (default, Feb  1 2023, 16:01:55) \n[GCC 11.3.0]"
  },
  "orig_nbformat": 4,
  "vscode": {
   "interpreter": {
    "hash": "c45feb961e4f7b1c3c6255af66865ee89045ea8524e65e365ab4a60946cc5330"
   }
  }
 },
 "nbformat": 4,
 "nbformat_minor": 2
}
