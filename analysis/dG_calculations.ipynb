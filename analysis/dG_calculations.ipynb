{
 "cells": [
  {
   "cell_type": "code",
   "execution_count": 54,
   "metadata": {},
   "outputs": [],
   "source": [
    "import numpy as np \n",
    "from BFEE2.postTreatment import postTreatment\n",
    "import math\n",
    "import plumed\n",
    "from jinja2 import Template"
   ]
  },
  {
   "cell_type": "code",
   "execution_count": 55,
   "metadata": {},
   "outputs": [],
   "source": [
    "\n",
    "def readPMF(filePath):\n",
    "    \"\"\"read a 1D PMF file\n",
    "\n",
    "    Args:\n",
    "        filePath (str): the path of the PMF file\n",
    "\n",
    "    Returns:\n",
    "        np.array (float, 2*N): ((x0,x1,x2, ...), (y0, y1, y2, ...))\n",
    "    \"\"\"\n",
    "\n",
    "    data = np.loadtxt(filePath)\n",
    "    x = data[:,0]\n",
    "    y = data[:,1]\n",
    "\n",
    "    return np.array((x, y))\n",
    "\n",
    "def geometricRestraintContribution(pmf, forceConstant, beta, rmsd=False, unbound=False):\n",
    "    \"\"\"calculate the contribution of RMSD and angle restraints\n",
    "\n",
    "    Args:\n",
    "        pmf (np.array, float, 2*N): ((x0,x1,x2, ...), (y0, y1, y2, ...))\n",
    "        forceConstant (float): the force constant of the restraint\n",
    "        rmsd (bool): whether the contribution of RMSD is being calculated. Defaults to False.\n",
    "        unbound (bool, optional): whether unbound-state contribution is being calculated. Defaults to False.\n",
    "\n",
    "    Returns:\n",
    "        float: contribution of the geometric restraint\n",
    "    \"\"\"\n",
    "\n",
    "    if rmsd:\n",
    "        # for RMSD, the restraintCenter is zero\n",
    "        restraintCenter = 0\n",
    "    else:\n",
    "        # the minimum of pmf\n",
    "        restraintCenter = pmf[0][np.argmin(pmf[1])]\n",
    "\n",
    "    # integration\n",
    "    numerator = 0\n",
    "    denominator = 0\n",
    "    for x, y in zip(pmf[0], pmf[1]):\n",
    "        numerator += math.exp(-beta * y)\n",
    "        denominator += math.exp((-beta) * (y + 0.5 * forceConstant * ((x - restraintCenter)**2)))\n",
    "    print(numerator, denominator)\n",
    "\n",
    "    contribution = math.log(numerator / denominator) / beta\n",
    "\n",
    "    if unbound:\n",
    "        return contribution\n",
    "    else:\n",
    "        return -contribution"
   ]
  },
  {
   "cell_type": "code",
   "execution_count": 56,
   "metadata": {},
   "outputs": [],
   "source": [
    "def applylimit(pmf, lower=0, upper=1.75):\n",
    "    temp_pmf = []\n",
    "    for x, y in zip(pmf[0], pmf[1]):\n",
    "        if  lower <= x and x <=upper:\n",
    "            temp_pmf.append([x, y])\n",
    "    return np.array(temp_pmf).T"
   ]
  },
  {
   "cell_type": "code",
   "execution_count": 57,
   "metadata": {},
   "outputs": [],
   "source": [
    "\n",
    "TEMPERATURE = 300 # k\n",
    "BOLTZMANN = 0.0019872041 # kacl/mol \n",
    "beta =  1 / (BOLTZMANN * TEMPERATURE)"
   ]
  },
  {
   "cell_type": "code",
   "execution_count": 58,
   "metadata": {},
   "outputs": [
    {
     "name": "stdout",
     "output_type": "stream",
     "text": [
      "(2, 61)\n",
      "(2, 9)\n",
      "1.031470310603325 0.3340919123339058\n",
      "dG = -0.672 kcal/mol\n"
     ]
    }
   ],
   "source": [
    "# RMSDBOUND NAMD \n",
    "forceConstant = 10 # kcal/mol A2\n",
    "pmf_path =  '../BFEE_NAMD/001_RMSDBound/output/abf_1.abf1.czar.pmf'\n",
    "pmf = readPMF(pmf_path)\n",
    "print(pmf.shape)\n",
    "pmf2 = applylimit(pmf, 0.2, 0.6)\n",
    "print(pmf2.shape)\n",
    "dG = geometricRestraintContribution(pmf2, forceConstant, beta, rmsd=True, unbound=False)\n",
    "print(f'dG = {dG:.3f} kcal/mol')"
   ]
  },
  {
   "cell_type": "code",
   "execution_count": 59,
   "metadata": {},
   "outputs": [
    {
     "name": "stdout",
     "output_type": "stream",
     "text": [
      "(2, 57)\n",
      "(2, 12)\n",
      "0.6819463574045127 0.2851912728832292\n",
      "dG = -0.520 kcal/mol\n"
     ]
    },
    {
     "name": "stderr",
     "output_type": "stream",
     "text": [
      "/tmp/ipykernel_13666/2480900038.py:1: UserWarning: cannot load PLUMED instance, conversions will not be available\n",
      "  data = plumed.read_as_pandas(\"../../openmm_bfee2_2wi3/analysis/rmsdbound.dat\")\n",
      "+++ Loading the PLUMED kernel runtime +++\n",
      "+++ PLUMED_KERNEL=\"/home/ndonyapour/miniconda3/envs/bfee2/lib/libplumedKernel.so\" +++\n",
      "+++ File /home/ndonyapour/miniconda3/envs/bfee2/lib/libplumedKernel.so does not exist or cannot be read\n"
     ]
    }
   ],
   "source": [
    "data = plumed.read_as_pandas(\"../../openmm_bfee2_2wi3/analysis/rmsdbound.dat\")\n",
    "pmf_op = np.array([data[\"rmsd\"] * 10, data[\"file.free\"]/4.184])\n",
    "print(pmf_op.shape)\n",
    "pmf2_op = applylimit(pmf_op, 0.2, 0.6)\n",
    "print(pmf2_op.shape)\n",
    "pmf2_op[1] += 1\n",
    "dG = geometricRestraintContribution(pmf2_op, forceConstant, beta, rmsd=True, unbound=False)\n",
    "print(f'dG = {dG:.3f} kcal/mol')"
   ]
  },
  {
   "cell_type": "code",
   "execution_count": 60,
   "metadata": {},
   "outputs": [
    {
     "data": {
      "text/plain": [
       "(0.0, 40.0)"
      ]
     },
     "execution_count": 60,
     "metadata": {},
     "output_type": "execute_result"
    },
    {
     "data": {
      "image/png": "[encoded data removed]",
      "text/plain": [
       "<Figure size 640x480 with 1 Axes>"
      ]
     },
     "metadata": {},
     "output_type": "display_data"
    }
   ],
   "source": [
    "plt.plot(*pmf2, \"o-\")\n",
    "plt.plot(*pmf2_op, \"o-\")\n",
    "plt.ylim([0, 40])"
   ]
  },
  {
   "cell_type": "code",
   "execution_count": 72,
   "metadata": {},
   "outputs": [
    {
     "name": "stdout",
     "output_type": "stream",
     "text": [
      "ΔG(site,c): -1.28 kcal/mol\n",
      "ΔG(site,eulerTheta): -0.44 kcal/mol\n",
      "ΔG(site,eulerPhi): -0.48 kcal/mol\n",
      "ΔG(site,eulerPsi): -0.30 kcal/mol\n",
      "ΔG(site,polarTheta): -0.45 kcal/mol\n",
      "ΔG(site,polarPhi): -0.51 kcal/mol\n",
      "(1/beta)*ln(S*I*C0): 1.27 kcal/mol\n",
      "ΔG(bulk,c): 2.09 kcal/mol\n",
      "ΔG(bulk,o): 6.61 kcal/mol\n",
      "ΔG(total): 6.51 kcal/mol\n"
     ]
    }
   ],
   "source": [
    "# calculate_free_energy\n",
    "temperature = 300\n",
    "import shutil\n",
    "unit ='namd'\n",
    "ps = postTreatment(temperature, unit, jobType='geometric') \n",
    "pmf_paths = []\n",
    "steps = ['RMSDBound', 'EulerTheta', 'EulerPhi', 'EulerPsi', 'PolarTheta', 'PolarPhi', 'r', 'RMSDUnbound']\n",
    "for i in range(1, 9):\n",
    "    pmf_paths.append(f'../BFEE_NAMD/00{i}_{steps[i-1]}/output/abf_1.abf1.czar.pmf')\n",
    "    shutil.copy(f'../BFEE_NAMD/00{i}_{steps[i-1]}/output/abf_1.abf1.czar.pmf', f'../outputs/00{i}_{steps[i-1]}.abf1.czar.pmf')\n",
    "# print(pmf_paths)  \n",
    "# # (forceConstant1, FC2, FC3, FC4, FC5, FC6, r*, FC8)\n",
    "#r* < 007_pmf[0][-1]\n",
    "forceconstants = np.array([10, 0.1, 0.1, 0.1, 0.1, 0.1, 28.0, 10])\n",
    "dGs = ps.geometricBindingFreeEnergy(pmf_paths, forceconstants)\n",
    "\n",
    "dGs_str = [\"ΔG(site,c):\", \"ΔG(site,eulerTheta):\", \"ΔG(site,eulerPhi):\", \"ΔG(site,eulerPsi):\", \"ΔG(site,polarTheta):\",\n",
    "           \"ΔG(site,polarPhi):\",\"(1/beta)*ln(S*I*C0):\", \"ΔG(bulk,c):\", \"ΔG(bulk,o):\", \"ΔG(total):\"]\n",
    "\n",
    "for i, dg in enumerate(dGs):\n",
    "    print(f\"{dGs_str[i]} {dg:.2f} kcal/mol\")"
   ]
  }
 ],
 "metadata": {
  "kernelspec": {
   "display_name": "Python 3",
   "language": "python",
   "name": "python3"
  },
  "language_info": {
   "codemirror_mode": {
    "name": "ipython",
    "version": 3
   },
   "file_extension": ".py",
   "mimetype": "text/x-python",
   "name": "python",
   "nbconvert_exporter": "python",
   "pygments_lexer": "ipython3",
   "version": "3.8.16"
  },
  "orig_nbformat": 4,
  "vscode": {
   "interpreter": {
    "hash": "c45feb961e4f7b1c3c6255af66865ee89045ea8524e65e365ab4a60946cc5330"
   }
  }
 },
 "nbformat": 4,
 "nbformat_minor": 2
}
